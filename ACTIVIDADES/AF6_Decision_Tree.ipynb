{
  "nbformat": 4,
  "nbformat_minor": 0,
  "metadata": {
    "colab": {
      "provenance": [],
      "authorship_tag": "ABX9TyMx5hm+aAGtFAYJs0OfL/wW",
      "include_colab_link": true
    },
    "kernelspec": {
      "name": "python3",
      "display_name": "Python 3"
    },
    "language_info": {
      "name": "python"
    }
  },
  "cells": [
    {
      "cell_type": "markdown",
      "metadata": {
        "id": "view-in-github",
        "colab_type": "text"
      },
      "source": [
        "<a href=\"https://colab.research.google.com/github/Pandhuskyy/Inteligencia_Artificial_N4-N6_013/blob/main/AF6_Decision_Tree.ipynb\" target=\"_parent\"><img src=\"https://colab.research.google.com/assets/colab-badge.svg\" alt=\"Open In Colab\"/></a>"
      ]
    },
    {
      "cell_type": "code",
      "execution_count": null,
      "metadata": {
        "id": "e3O5keEHtmzd"
      },
      "outputs": [],
      "source": []
    },
    {
      "cell_type": "code",
      "execution_count": null,
      "metadata": {
        "id": "qDwznm6Pubfn"
      },
      "outputs": [],
      "source": [
        "#INTELIGENCIA ARTIFICIAL 013 N4 - N6\n",
        "#AF6 Aprendizaje supervisado, árbol de decisión\n",
        "#INTEGRANTES___________________ MATRICULA ____ CARRERA\n",
        "#ISRAEL ALEXANDER PEREZ REMIGIO - 2007050 ---- IMC\n",
        "#CARMEN BELÉN CONTRERAS VAZQUEZ - 2173848 ---- IMC\n",
        "#GERSON MOISÉS PUENTE ARREDONDO - 1823543 ----- IMC\n",
        "#FÁTIMA QUETZALI RODRÍGUEZ REYNA - 1958057 ---- IMC"
      ]
    },
    {
      "cell_type": "code",
      "execution_count": 1,
      "metadata": {
        "id": "P-kE3yqpGwkW"
      },
      "outputs": [],
      "source": [
        "#Cargamos librerías\n",
        "import pandas as pd\n",
        "import numpy as np\n",
        "# Visualización\n",
        "import matplotlib.pyplot as plt\n",
        "# Librerías de scikit-learn para machine learning\n",
        "from sklearn.model_selection import train_test_split\n",
        "from sklearn.tree import DecisionTreeClassifier, plot_tree\n",
        "from sklearn.metrics import confusion_matrix, accuracy_score, classification_report"
      ]
    },
    {
      "cell_type": "code",
      "source": [],
      "metadata": {
        "id": "zIqkK5_muqWh"
      },
      "execution_count": null,
      "outputs": []
    }
  ]
}
